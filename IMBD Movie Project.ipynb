{
 "cells": [
  {
   "cell_type": "markdown",
   "id": "62911dd4",
   "metadata": {},
   "source": [
    "# IMBD Movie Project"
   ]
  },
  {
   "cell_type": "code",
   "execution_count": 1,
   "id": "a9c87717",
   "metadata": {},
   "outputs": [],
   "source": [
    "import numpy as np\n",
    "import pandas as pd\n",
    "import seaborn as sns\n",
    "import matplotlib.pyplot as plt"
   ]
  },
  {
   "cell_type": "code",
   "execution_count": 2,
   "id": "a788b13b",
   "metadata": {},
   "outputs": [
    {
     "data": {
      "text/html": [
       "<div>\n",
       "<style scoped>\n",
       "    .dataframe tbody tr th:only-of-type {\n",
       "        vertical-align: middle;\n",
       "    }\n",
       "\n",
       "    .dataframe tbody tr th {\n",
       "        vertical-align: top;\n",
       "    }\n",
       "\n",
       "    .dataframe thead th {\n",
       "        text-align: right;\n",
       "    }\n",
       "</style>\n",
       "<table border=\"1\" class=\"dataframe\">\n",
       "  <thead>\n",
       "    <tr style=\"text-align: right;\">\n",
       "      <th></th>\n",
       "      <th>Rank</th>\n",
       "      <th>Title</th>\n",
       "      <th>Genre</th>\n",
       "      <th>Description</th>\n",
       "      <th>Director</th>\n",
       "      <th>Actors</th>\n",
       "      <th>Year</th>\n",
       "      <th>Runtime (Minutes)</th>\n",
       "      <th>Rating</th>\n",
       "      <th>Votes</th>\n",
       "      <th>Revenue (Millions)</th>\n",
       "      <th>Metascore</th>\n",
       "    </tr>\n",
       "  </thead>\n",
       "  <tbody>\n",
       "    <tr>\n",
       "      <th>0</th>\n",
       "      <td>1</td>\n",
       "      <td>Guardians of the Galaxy</td>\n",
       "      <td>Action,Adventure,Sci-Fi</td>\n",
       "      <td>A group of intergalactic criminals are forced ...</td>\n",
       "      <td>James Gunn</td>\n",
       "      <td>Chris Pratt, Vin Diesel, Bradley Cooper, Zoe S...</td>\n",
       "      <td>2014</td>\n",
       "      <td>121</td>\n",
       "      <td>8.1</td>\n",
       "      <td>757074</td>\n",
       "      <td>333.13</td>\n",
       "      <td>76.0</td>\n",
       "    </tr>\n",
       "    <tr>\n",
       "      <th>1</th>\n",
       "      <td>2</td>\n",
       "      <td>Prometheus</td>\n",
       "      <td>Adventure,Mystery,Sci-Fi</td>\n",
       "      <td>Following clues to the origin of mankind, a te...</td>\n",
       "      <td>Ridley Scott</td>\n",
       "      <td>Noomi Rapace, Logan Marshall-Green, Michael Fa...</td>\n",
       "      <td>2012</td>\n",
       "      <td>124</td>\n",
       "      <td>7.0</td>\n",
       "      <td>485820</td>\n",
       "      <td>126.46</td>\n",
       "      <td>65.0</td>\n",
       "    </tr>\n",
       "    <tr>\n",
       "      <th>2</th>\n",
       "      <td>3</td>\n",
       "      <td>Split</td>\n",
       "      <td>Horror,Thriller</td>\n",
       "      <td>Three girls are kidnapped by a man with a diag...</td>\n",
       "      <td>M. Night Shyamalan</td>\n",
       "      <td>James McAvoy, Anya Taylor-Joy, Haley Lu Richar...</td>\n",
       "      <td>2016</td>\n",
       "      <td>117</td>\n",
       "      <td>7.3</td>\n",
       "      <td>157606</td>\n",
       "      <td>138.12</td>\n",
       "      <td>62.0</td>\n",
       "    </tr>\n",
       "    <tr>\n",
       "      <th>3</th>\n",
       "      <td>4</td>\n",
       "      <td>Sing</td>\n",
       "      <td>Animation,Comedy,Family</td>\n",
       "      <td>In a city of humanoid animals, a hustling thea...</td>\n",
       "      <td>Christophe Lourdelet</td>\n",
       "      <td>Matthew McConaughey,Reese Witherspoon, Seth Ma...</td>\n",
       "      <td>2016</td>\n",
       "      <td>108</td>\n",
       "      <td>7.2</td>\n",
       "      <td>60545</td>\n",
       "      <td>270.32</td>\n",
       "      <td>59.0</td>\n",
       "    </tr>\n",
       "    <tr>\n",
       "      <th>4</th>\n",
       "      <td>5</td>\n",
       "      <td>Suicide Squad</td>\n",
       "      <td>Action,Adventure,Fantasy</td>\n",
       "      <td>A secret government agency recruits some of th...</td>\n",
       "      <td>David Ayer</td>\n",
       "      <td>Will Smith, Jared Leto, Margot Robbie, Viola D...</td>\n",
       "      <td>2016</td>\n",
       "      <td>123</td>\n",
       "      <td>6.2</td>\n",
       "      <td>393727</td>\n",
       "      <td>325.02</td>\n",
       "      <td>40.0</td>\n",
       "    </tr>\n",
       "  </tbody>\n",
       "</table>\n",
       "</div>"
      ],
      "text/plain": [
       "   Rank                    Title                     Genre  \\\n",
       "0     1  Guardians of the Galaxy   Action,Adventure,Sci-Fi   \n",
       "1     2               Prometheus  Adventure,Mystery,Sci-Fi   \n",
       "2     3                    Split           Horror,Thriller   \n",
       "3     4                     Sing   Animation,Comedy,Family   \n",
       "4     5            Suicide Squad  Action,Adventure,Fantasy   \n",
       "\n",
       "                                         Description              Director  \\\n",
       "0  A group of intergalactic criminals are forced ...            James Gunn   \n",
       "1  Following clues to the origin of mankind, a te...          Ridley Scott   \n",
       "2  Three girls are kidnapped by a man with a diag...    M. Night Shyamalan   \n",
       "3  In a city of humanoid animals, a hustling thea...  Christophe Lourdelet   \n",
       "4  A secret government agency recruits some of th...            David Ayer   \n",
       "\n",
       "                                              Actors  Year  Runtime (Minutes)  \\\n",
       "0  Chris Pratt, Vin Diesel, Bradley Cooper, Zoe S...  2014                121   \n",
       "1  Noomi Rapace, Logan Marshall-Green, Michael Fa...  2012                124   \n",
       "2  James McAvoy, Anya Taylor-Joy, Haley Lu Richar...  2016                117   \n",
       "3  Matthew McConaughey,Reese Witherspoon, Seth Ma...  2016                108   \n",
       "4  Will Smith, Jared Leto, Margot Robbie, Viola D...  2016                123   \n",
       "\n",
       "   Rating   Votes  Revenue (Millions)  Metascore  \n",
       "0     8.1  757074              333.13       76.0  \n",
       "1     7.0  485820              126.46       65.0  \n",
       "2     7.3  157606              138.12       62.0  \n",
       "3     7.2   60545              270.32       59.0  \n",
       "4     6.2  393727              325.02       40.0  "
      ]
     },
     "execution_count": 2,
     "metadata": {},
     "output_type": "execute_result"
    }
   ],
   "source": [
    "data = pd.read_csv(\"IMDB_Movie_Data.csv\")\n",
    "data.head()"
   ]
  },
  {
   "cell_type": "code",
   "execution_count": 3,
   "id": "c1bc42a4",
   "metadata": {},
   "outputs": [
    {
     "data": {
      "text/plain": [
       "Rank                    0\n",
       "Title                   0\n",
       "Genre                   0\n",
       "Description             0\n",
       "Director                0\n",
       "Actors                  0\n",
       "Year                    0\n",
       "Runtime (Minutes)       0\n",
       "Rating                  0\n",
       "Votes                   0\n",
       "Revenue (Millions)    128\n",
       "Metascore              64\n",
       "dtype: int64"
      ]
     },
     "execution_count": 3,
     "metadata": {},
     "output_type": "execute_result"
    }
   ],
   "source": [
    "data.isnull().sum()"
   ]
  },
  {
   "cell_type": "code",
   "execution_count": 4,
   "id": "f0d1e2b0",
   "metadata": {},
   "outputs": [
    {
     "data": {
      "text/plain": [
       "Index(['Rank', 'Title', 'Genre', 'Description', 'Director', 'Actors', 'Year',\n",
       "       'Runtime (Minutes)', 'Rating', 'Votes', 'Revenue (Millions)',\n",
       "       'Metascore'],\n",
       "      dtype='object')"
      ]
     },
     "execution_count": 4,
     "metadata": {},
     "output_type": "execute_result"
    }
   ],
   "source": [
    "data.columns"
   ]
  },
  {
   "cell_type": "code",
   "execution_count": 5,
   "id": "cfb770dd",
   "metadata": {},
   "outputs": [],
   "source": [
    "data[\"Revenue\"] = data[\"Revenue (Millions)\"].fillna(data[\"Revenue (Millions)\"].mean())\n",
    "data[\"Metascore\"] = data[\"Metascore\"].fillna(data[\"Metascore\"].mean())"
   ]
  },
  {
   "cell_type": "code",
   "execution_count": 6,
   "id": "f2a0a30c",
   "metadata": {},
   "outputs": [],
   "source": [
    "data[\"Runtime\"] = data[\"Runtime (Minutes)\"]\n",
    "data = data.drop([\"Runtime (Minutes)\",\"Revenue (Millions)\"],axis=1)"
   ]
  },
  {
   "cell_type": "code",
   "execution_count": 7,
   "id": "769dee6e",
   "metadata": {},
   "outputs": [
    {
     "data": {
      "text/plain": [
       "Rank           0\n",
       "Title          0\n",
       "Genre          0\n",
       "Description    0\n",
       "Director       0\n",
       "Actors         0\n",
       "Year           0\n",
       "Rating         0\n",
       "Votes          0\n",
       "Metascore      0\n",
       "Revenue        0\n",
       "Runtime        0\n",
       "dtype: int64"
      ]
     },
     "execution_count": 7,
     "metadata": {},
     "output_type": "execute_result"
    }
   ],
   "source": [
    "data.isnull().sum()"
   ]
  },
  {
   "cell_type": "code",
   "execution_count": 8,
   "id": "a594927f",
   "metadata": {},
   "outputs": [
    {
     "data": {
      "text/html": [
       "<div>\n",
       "<style scoped>\n",
       "    .dataframe tbody tr th:only-of-type {\n",
       "        vertical-align: middle;\n",
       "    }\n",
       "\n",
       "    .dataframe tbody tr th {\n",
       "        vertical-align: top;\n",
       "    }\n",
       "\n",
       "    .dataframe thead th {\n",
       "        text-align: right;\n",
       "    }\n",
       "</style>\n",
       "<table border=\"1\" class=\"dataframe\">\n",
       "  <thead>\n",
       "    <tr style=\"text-align: right;\">\n",
       "      <th></th>\n",
       "      <th>Rank</th>\n",
       "      <th>Title</th>\n",
       "      <th>Genre</th>\n",
       "      <th>Description</th>\n",
       "      <th>Director</th>\n",
       "      <th>Actors</th>\n",
       "      <th>Year</th>\n",
       "      <th>Rating</th>\n",
       "      <th>Votes</th>\n",
       "      <th>Metascore</th>\n",
       "      <th>Revenue</th>\n",
       "      <th>Runtime</th>\n",
       "    </tr>\n",
       "  </thead>\n",
       "  <tbody>\n",
       "    <tr>\n",
       "      <th>0</th>\n",
       "      <td>1</td>\n",
       "      <td>Guardians of the Galaxy</td>\n",
       "      <td>Action,Adventure,Sci-Fi</td>\n",
       "      <td>A group of intergalactic criminals are forced ...</td>\n",
       "      <td>James Gunn</td>\n",
       "      <td>Chris Pratt, Vin Diesel, Bradley Cooper, Zoe S...</td>\n",
       "      <td>2014</td>\n",
       "      <td>8.1</td>\n",
       "      <td>757074</td>\n",
       "      <td>76.0</td>\n",
       "      <td>333.13</td>\n",
       "      <td>121</td>\n",
       "    </tr>\n",
       "    <tr>\n",
       "      <th>1</th>\n",
       "      <td>2</td>\n",
       "      <td>Prometheus</td>\n",
       "      <td>Adventure,Mystery,Sci-Fi</td>\n",
       "      <td>Following clues to the origin of mankind, a te...</td>\n",
       "      <td>Ridley Scott</td>\n",
       "      <td>Noomi Rapace, Logan Marshall-Green, Michael Fa...</td>\n",
       "      <td>2012</td>\n",
       "      <td>7.0</td>\n",
       "      <td>485820</td>\n",
       "      <td>65.0</td>\n",
       "      <td>126.46</td>\n",
       "      <td>124</td>\n",
       "    </tr>\n",
       "    <tr>\n",
       "      <th>2</th>\n",
       "      <td>3</td>\n",
       "      <td>Split</td>\n",
       "      <td>Horror,Thriller</td>\n",
       "      <td>Three girls are kidnapped by a man with a diag...</td>\n",
       "      <td>M. Night Shyamalan</td>\n",
       "      <td>James McAvoy, Anya Taylor-Joy, Haley Lu Richar...</td>\n",
       "      <td>2016</td>\n",
       "      <td>7.3</td>\n",
       "      <td>157606</td>\n",
       "      <td>62.0</td>\n",
       "      <td>138.12</td>\n",
       "      <td>117</td>\n",
       "    </tr>\n",
       "    <tr>\n",
       "      <th>3</th>\n",
       "      <td>4</td>\n",
       "      <td>Sing</td>\n",
       "      <td>Animation,Comedy,Family</td>\n",
       "      <td>In a city of humanoid animals, a hustling thea...</td>\n",
       "      <td>Christophe Lourdelet</td>\n",
       "      <td>Matthew McConaughey,Reese Witherspoon, Seth Ma...</td>\n",
       "      <td>2016</td>\n",
       "      <td>7.2</td>\n",
       "      <td>60545</td>\n",
       "      <td>59.0</td>\n",
       "      <td>270.32</td>\n",
       "      <td>108</td>\n",
       "    </tr>\n",
       "    <tr>\n",
       "      <th>4</th>\n",
       "      <td>5</td>\n",
       "      <td>Suicide Squad</td>\n",
       "      <td>Action,Adventure,Fantasy</td>\n",
       "      <td>A secret government agency recruits some of th...</td>\n",
       "      <td>David Ayer</td>\n",
       "      <td>Will Smith, Jared Leto, Margot Robbie, Viola D...</td>\n",
       "      <td>2016</td>\n",
       "      <td>6.2</td>\n",
       "      <td>393727</td>\n",
       "      <td>40.0</td>\n",
       "      <td>325.02</td>\n",
       "      <td>123</td>\n",
       "    </tr>\n",
       "  </tbody>\n",
       "</table>\n",
       "</div>"
      ],
      "text/plain": [
       "   Rank                    Title                     Genre  \\\n",
       "0     1  Guardians of the Galaxy   Action,Adventure,Sci-Fi   \n",
       "1     2               Prometheus  Adventure,Mystery,Sci-Fi   \n",
       "2     3                    Split           Horror,Thriller   \n",
       "3     4                     Sing   Animation,Comedy,Family   \n",
       "4     5            Suicide Squad  Action,Adventure,Fantasy   \n",
       "\n",
       "                                         Description              Director  \\\n",
       "0  A group of intergalactic criminals are forced ...            James Gunn   \n",
       "1  Following clues to the origin of mankind, a te...          Ridley Scott   \n",
       "2  Three girls are kidnapped by a man with a diag...    M. Night Shyamalan   \n",
       "3  In a city of humanoid animals, a hustling thea...  Christophe Lourdelet   \n",
       "4  A secret government agency recruits some of th...            David Ayer   \n",
       "\n",
       "                                              Actors  Year  Rating   Votes  \\\n",
       "0  Chris Pratt, Vin Diesel, Bradley Cooper, Zoe S...  2014     8.1  757074   \n",
       "1  Noomi Rapace, Logan Marshall-Green, Michael Fa...  2012     7.0  485820   \n",
       "2  James McAvoy, Anya Taylor-Joy, Haley Lu Richar...  2016     7.3  157606   \n",
       "3  Matthew McConaughey,Reese Witherspoon, Seth Ma...  2016     7.2   60545   \n",
       "4  Will Smith, Jared Leto, Margot Robbie, Viola D...  2016     6.2  393727   \n",
       "\n",
       "   Metascore  Revenue  Runtime  \n",
       "0       76.0   333.13      121  \n",
       "1       65.0   126.46      124  \n",
       "2       62.0   138.12      117  \n",
       "3       59.0   270.32      108  \n",
       "4       40.0   325.02      123  "
      ]
     },
     "execution_count": 8,
     "metadata": {},
     "output_type": "execute_result"
    }
   ],
   "source": [
    "data.head()"
   ]
  },
  {
   "cell_type": "code",
   "execution_count": 9,
   "id": "d3871d9d",
   "metadata": {},
   "outputs": [
    {
     "data": {
      "text/html": [
       "<div>\n",
       "<style scoped>\n",
       "    .dataframe tbody tr th:only-of-type {\n",
       "        vertical-align: middle;\n",
       "    }\n",
       "\n",
       "    .dataframe tbody tr th {\n",
       "        vertical-align: top;\n",
       "    }\n",
       "\n",
       "    .dataframe thead th {\n",
       "        text-align: right;\n",
       "    }\n",
       "</style>\n",
       "<table border=\"1\" class=\"dataframe\">\n",
       "  <thead>\n",
       "    <tr style=\"text-align: right;\">\n",
       "      <th></th>\n",
       "      <th>Rank</th>\n",
       "      <th>Year</th>\n",
       "      <th>Rating</th>\n",
       "      <th>Votes</th>\n",
       "      <th>Metascore</th>\n",
       "      <th>Revenue</th>\n",
       "      <th>Runtime</th>\n",
       "    </tr>\n",
       "  </thead>\n",
       "  <tbody>\n",
       "    <tr>\n",
       "      <th>Rank</th>\n",
       "      <td>1.000000</td>\n",
       "      <td>-0.261605</td>\n",
       "      <td>-0.219555</td>\n",
       "      <td>-0.283876</td>\n",
       "      <td>-0.185159</td>\n",
       "      <td>-0.252996</td>\n",
       "      <td>-0.221739</td>\n",
       "    </tr>\n",
       "    <tr>\n",
       "      <th>Year</th>\n",
       "      <td>-0.261605</td>\n",
       "      <td>1.000000</td>\n",
       "      <td>-0.211219</td>\n",
       "      <td>-0.411904</td>\n",
       "      <td>-0.076077</td>\n",
       "      <td>-0.117562</td>\n",
       "      <td>-0.164900</td>\n",
       "    </tr>\n",
       "    <tr>\n",
       "      <th>Rating</th>\n",
       "      <td>-0.219555</td>\n",
       "      <td>-0.211219</td>\n",
       "      <td>1.000000</td>\n",
       "      <td>0.511537</td>\n",
       "      <td>0.604723</td>\n",
       "      <td>0.189527</td>\n",
       "      <td>0.392214</td>\n",
       "    </tr>\n",
       "    <tr>\n",
       "      <th>Votes</th>\n",
       "      <td>-0.283876</td>\n",
       "      <td>-0.411904</td>\n",
       "      <td>0.511537</td>\n",
       "      <td>1.000000</td>\n",
       "      <td>0.318116</td>\n",
       "      <td>0.607941</td>\n",
       "      <td>0.407062</td>\n",
       "    </tr>\n",
       "    <tr>\n",
       "      <th>Metascore</th>\n",
       "      <td>-0.185159</td>\n",
       "      <td>-0.076077</td>\n",
       "      <td>0.604723</td>\n",
       "      <td>0.318116</td>\n",
       "      <td>1.000000</td>\n",
       "      <td>0.132304</td>\n",
       "      <td>0.202239</td>\n",
       "    </tr>\n",
       "    <tr>\n",
       "      <th>Revenue</th>\n",
       "      <td>-0.252996</td>\n",
       "      <td>-0.117562</td>\n",
       "      <td>0.189527</td>\n",
       "      <td>0.607941</td>\n",
       "      <td>0.132304</td>\n",
       "      <td>1.000000</td>\n",
       "      <td>0.247834</td>\n",
       "    </tr>\n",
       "    <tr>\n",
       "      <th>Runtime</th>\n",
       "      <td>-0.221739</td>\n",
       "      <td>-0.164900</td>\n",
       "      <td>0.392214</td>\n",
       "      <td>0.407062</td>\n",
       "      <td>0.202239</td>\n",
       "      <td>0.247834</td>\n",
       "      <td>1.000000</td>\n",
       "    </tr>\n",
       "  </tbody>\n",
       "</table>\n",
       "</div>"
      ],
      "text/plain": [
       "               Rank      Year    Rating     Votes  Metascore   Revenue  \\\n",
       "Rank       1.000000 -0.261605 -0.219555 -0.283876  -0.185159 -0.252996   \n",
       "Year      -0.261605  1.000000 -0.211219 -0.411904  -0.076077 -0.117562   \n",
       "Rating    -0.219555 -0.211219  1.000000  0.511537   0.604723  0.189527   \n",
       "Votes     -0.283876 -0.411904  0.511537  1.000000   0.318116  0.607941   \n",
       "Metascore -0.185159 -0.076077  0.604723  0.318116   1.000000  0.132304   \n",
       "Revenue   -0.252996 -0.117562  0.189527  0.607941   0.132304  1.000000   \n",
       "Runtime   -0.221739 -0.164900  0.392214  0.407062   0.202239  0.247834   \n",
       "\n",
       "            Runtime  \n",
       "Rank      -0.221739  \n",
       "Year      -0.164900  \n",
       "Rating     0.392214  \n",
       "Votes      0.407062  \n",
       "Metascore  0.202239  \n",
       "Revenue    0.247834  \n",
       "Runtime    1.000000  "
      ]
     },
     "execution_count": 9,
     "metadata": {},
     "output_type": "execute_result"
    }
   ],
   "source": [
    "data.corr()"
   ]
  },
  {
   "cell_type": "code",
   "execution_count": 10,
   "id": "427639bb",
   "metadata": {},
   "outputs": [
    {
     "data": {
      "text/plain": [
       "Index(['Rank', 'Title', 'Genre', 'Description', 'Director', 'Actors', 'Year',\n",
       "       'Rating', 'Votes', 'Metascore', 'Revenue', 'Runtime'],\n",
       "      dtype='object')"
      ]
     },
     "execution_count": 10,
     "metadata": {},
     "output_type": "execute_result"
    }
   ],
   "source": [
    "data.columns"
   ]
  },
  {
   "cell_type": "markdown",
   "id": "524f6fd4",
   "metadata": {},
   "source": [
    "## Movies directed by 'James Gunn', & 'Ridley Scott' with the rating greater than or equal to 8."
   ]
  },
  {
   "cell_type": "code",
   "execution_count": 11,
   "id": "626c4dc7",
   "metadata": {},
   "outputs": [
    {
     "data": {
      "text/plain": [
       "0      Guardians of the Galaxy\n",
       "102                The Martian\n",
       "Name: Title, dtype: object"
      ]
     },
     "execution_count": 11,
     "metadata": {},
     "output_type": "execute_result"
    }
   ],
   "source": [
    "Movies_of_James_and_Ridley_with_Rating = data[\"Title\"][data[\"Director\"].apply(lambda x: x==\"James Gunn\" or x==\"Ridley Scott\")][data[\"Rating\"]>=8]\n",
    "Movies_of_James_and_Ridley_with_Rating"
   ]
  },
  {
   "cell_type": "markdown",
   "id": "a94e00bf",
   "metadata": {},
   "source": [
    "##  All the movies directed by 'Ridley Scott'."
   ]
  },
  {
   "cell_type": "code",
   "execution_count": 12,
   "id": "78df0172",
   "metadata": {},
   "outputs": [
    {
     "data": {
      "text/plain": [
       "1                  Prometheus\n",
       "102               The Martian\n",
       "387                Robin Hood\n",
       "470         American Gangster\n",
       "516    Exodus: Gods and Kings\n",
       "521             The Counselor\n",
       "530               A Good Year\n",
       "737              Body of Lies\n",
       "Name: Title, dtype: object"
      ]
     },
     "execution_count": 12,
     "metadata": {},
     "output_type": "execute_result"
    }
   ],
   "source": [
    "movies_of_Ridley_Scott = data[\"Title\"][data[\"Director\"].apply(lambda x: x==\"Ridley Scott\")]\n",
    "movies_of_Ridley_Scott"
   ]
  },
  {
   "cell_type": "markdown",
   "id": "72ccf645",
   "metadata": {},
   "source": [
    "## All the director's who got the rating >= 8 for their movies."
   ]
  },
  {
   "cell_type": "code",
   "execution_count": 13,
   "id": "910f11e2",
   "metadata": {},
   "outputs": [
    {
     "data": {
      "text/plain": [
       "0                James Gunn\n",
       "6           Damien Chazelle\n",
       "16               Mel Gibson\n",
       "18              Garth Davis\n",
       "19         Denis Villeneuve\n",
       "               ...         \n",
       "742    Juan José Campanella\n",
       "765         Rajkumar Hirani\n",
       "772            Dean DeBlois\n",
       "861            Naoko Yamada\n",
       "991              Aamir Khan\n",
       "Name: Director, Length: 78, dtype: object"
      ]
     },
     "execution_count": 13,
     "metadata": {},
     "output_type": "execute_result"
    }
   ],
   "source": [
    "Director_with_rating = data[\"Director\"][data[\"Rating\"]>=8]\n",
    "Director_with_rating"
   ]
  },
  {
   "cell_type": "markdown",
   "id": "b0276317",
   "metadata": {},
   "source": [
    "## All the movies directed by 'James Gunn', & 'Ridley Scott'."
   ]
  },
  {
   "cell_type": "code",
   "execution_count": 14,
   "id": "f4610eb4",
   "metadata": {},
   "outputs": [
    {
     "data": {
      "text/plain": [
       "0      Guardians of the Galaxy\n",
       "1                   Prometheus\n",
       "102                The Martian\n",
       "387                 Robin Hood\n",
       "470          American Gangster\n",
       "516     Exodus: Gods and Kings\n",
       "521              The Counselor\n",
       "530                A Good Year\n",
       "737               Body of Lies\n",
       "908                    Slither\n",
       "937                      Super\n",
       "Name: Title, dtype: object"
      ]
     },
     "execution_count": 14,
     "metadata": {},
     "output_type": "execute_result"
    }
   ],
   "source": [
    "Movies_of_James_and_Ridley = data[\"Title\"][data[\"Director\"].apply(lambda x: x==\"James Gunn\" or x==\"Ridley Scott\")]\n",
    "Movies_of_James_and_Ridley"
   ]
  },
  {
   "cell_type": "markdown",
   "id": "19ff5441",
   "metadata": {},
   "source": [
    "## Films with the highest rating"
   ]
  },
  {
   "cell_type": "code",
   "execution_count": 15,
   "id": "520ecdef",
   "metadata": {},
   "outputs": [
    {
     "data": {
      "text/plain": [
       "'Zootopia'"
      ]
     },
     "execution_count": 15,
     "metadata": {},
     "output_type": "execute_result"
    }
   ],
   "source": [
    "Highest_Rating_movie = data[\"Title\"].max()\n",
    "Highest_Rating_movie"
   ]
  },
  {
   "cell_type": "markdown",
   "id": "a5d995b9",
   "metadata": {},
   "source": [
    "## All the movies with the ratings between 8 & 9"
   ]
  },
  {
   "cell_type": "code",
   "execution_count": 16,
   "id": "2a4d4519",
   "metadata": {},
   "outputs": [
    {
     "data": {
      "text/plain": [
       "1000"
      ]
     },
     "execution_count": 16,
     "metadata": {},
     "output_type": "execute_result"
    }
   ],
   "source": [
    "movie_with_rating_8_9 = data[\"Title\"][data[\"Rating\"].apply(lambda x: x>=8 or x<=9)]\n",
    "movie_with_rating_8_9.value_counts().sum()"
   ]
  },
  {
   "cell_type": "markdown",
   "id": "4c3a5d71",
   "metadata": {},
   "source": [
    "## Movies directed by 'Christopher Nolan' and 'Ridley Scott'"
   ]
  },
  {
   "cell_type": "code",
   "execution_count": 17,
   "id": "4871bb93",
   "metadata": {},
   "outputs": [
    {
     "data": {
      "text/plain": [
       "1                  Prometheus\n",
       "36               Interstellar\n",
       "54            The Dark Knight\n",
       "64               The Prestige\n",
       "80                  Inception\n",
       "102               The Martian\n",
       "124     The Dark Knight Rises\n",
       "387                Robin Hood\n",
       "470         American Gangster\n",
       "516    Exodus: Gods and Kings\n",
       "521             The Counselor\n",
       "530               A Good Year\n",
       "737              Body of Lies\n",
       "Name: Title, dtype: object"
      ]
     },
     "execution_count": 17,
     "metadata": {},
     "output_type": "execute_result"
    }
   ],
   "source": [
    "Movies_of_Christopher_and_Ridley = data[\"Title\"][data[\"Director\"].apply(lambda x: x==\"Christopher Nolan\" or x==\"Ridley Scott\")]\n",
    "Movies_of_Christopher_and_Ridley"
   ]
  },
  {
   "cell_type": "markdown",
   "id": "f1ce4612",
   "metadata": {},
   "source": [
    "## All movies that were released between 2006 and 2010, have a rating above 8.0, but made below the 50th percentile in revenue."
   ]
  },
  {
   "cell_type": "code",
   "execution_count": 18,
   "id": "87c3b68c",
   "metadata": {},
   "outputs": [
    {
     "data": {
      "text/plain": [
       "64               The Prestige\n",
       "197             Into the Wild\n",
       "230           Pan's Labyrinth\n",
       "299       There Will Be Blood\n",
       "430                  3 Idiots\n",
       "476       The Lives of Others\n",
       "713                 Incendies\n",
       "742    El secreto de sus ojos\n",
       "991          Taare Zameen Par\n",
       "Name: Title, dtype: object"
      ]
     },
     "execution_count": 18,
     "metadata": {},
     "output_type": "execute_result"
    }
   ],
   "source": [
    "movie_released_2006_to_2010 = data[\"Title\"][data[\"Year\"].apply(lambda x: x>=2006 and x<=2010)][data[\"Rating\"]>8][data['Revenue'] < data['Revenue'].quantile(0.50)]\n",
    "movie_released_2006_to_2010"
   ]
  },
  {
   "cell_type": "markdown",
   "id": "5e3b4980",
   "metadata": {},
   "source": [
    "## All movies that were released between 2006 and 2010, have a rating above 8.0, but made below the 25th percentile in revenue."
   ]
  },
  {
   "cell_type": "code",
   "execution_count": 19,
   "id": "befba064",
   "metadata": {},
   "outputs": [
    {
     "data": {
      "text/plain": [
       "430               3 Idiots\n",
       "476    The Lives of Others\n",
       "713              Incendies\n",
       "991       Taare Zameen Par\n",
       "Name: Title, dtype: object"
      ]
     },
     "execution_count": 19,
     "metadata": {},
     "output_type": "execute_result"
    }
   ],
   "source": [
    "movie_released_2006_to_2010 = data[\"Title\"][data[\"Year\"].apply(lambda x: x>=2006 and x<=2010)][data[\"Rating\"]>8][data['Revenue'] < data['Revenue'].quantile(0.25)]\n",
    "movie_released_2006_to_2010"
   ]
  },
  {
   "cell_type": "markdown",
   "id": "13ec807a",
   "metadata": {},
   "source": [
    "## Feedback for all movies with 'Good' if the movie 'rating' is >= 8 and 'Average' if the movie rating doesn't follow the condition given."
   ]
  },
  {
   "cell_type": "code",
   "execution_count": 20,
   "id": "96b47023",
   "metadata": {},
   "outputs": [],
   "source": [
    "def feedback(x):\n",
    "    if x>=8:\n",
    "        return \"Good\"\n",
    "    else:\n",
    "        return \"Average\""
   ]
  },
  {
   "cell_type": "code",
   "execution_count": 21,
   "id": "58067896",
   "metadata": {},
   "outputs": [
    {
     "data": {
      "text/html": [
       "<div>\n",
       "<style scoped>\n",
       "    .dataframe tbody tr th:only-of-type {\n",
       "        vertical-align: middle;\n",
       "    }\n",
       "\n",
       "    .dataframe tbody tr th {\n",
       "        vertical-align: top;\n",
       "    }\n",
       "\n",
       "    .dataframe thead th {\n",
       "        text-align: right;\n",
       "    }\n",
       "</style>\n",
       "<table border=\"1\" class=\"dataframe\">\n",
       "  <thead>\n",
       "    <tr style=\"text-align: right;\">\n",
       "      <th></th>\n",
       "      <th>Rank</th>\n",
       "      <th>Title</th>\n",
       "      <th>Genre</th>\n",
       "      <th>Description</th>\n",
       "      <th>Director</th>\n",
       "      <th>Actors</th>\n",
       "      <th>Year</th>\n",
       "      <th>Rating</th>\n",
       "      <th>Votes</th>\n",
       "      <th>Metascore</th>\n",
       "      <th>Revenue</th>\n",
       "      <th>Runtime</th>\n",
       "      <th>feedback</th>\n",
       "    </tr>\n",
       "  </thead>\n",
       "  <tbody>\n",
       "    <tr>\n",
       "      <th>0</th>\n",
       "      <td>1</td>\n",
       "      <td>Guardians of the Galaxy</td>\n",
       "      <td>Action,Adventure,Sci-Fi</td>\n",
       "      <td>A group of intergalactic criminals are forced ...</td>\n",
       "      <td>James Gunn</td>\n",
       "      <td>Chris Pratt, Vin Diesel, Bradley Cooper, Zoe S...</td>\n",
       "      <td>2014</td>\n",
       "      <td>8.1</td>\n",
       "      <td>757074</td>\n",
       "      <td>76.0</td>\n",
       "      <td>333.13</td>\n",
       "      <td>121</td>\n",
       "      <td>Good</td>\n",
       "    </tr>\n",
       "    <tr>\n",
       "      <th>1</th>\n",
       "      <td>2</td>\n",
       "      <td>Prometheus</td>\n",
       "      <td>Adventure,Mystery,Sci-Fi</td>\n",
       "      <td>Following clues to the origin of mankind, a te...</td>\n",
       "      <td>Ridley Scott</td>\n",
       "      <td>Noomi Rapace, Logan Marshall-Green, Michael Fa...</td>\n",
       "      <td>2012</td>\n",
       "      <td>7.0</td>\n",
       "      <td>485820</td>\n",
       "      <td>65.0</td>\n",
       "      <td>126.46</td>\n",
       "      <td>124</td>\n",
       "      <td>Average</td>\n",
       "    </tr>\n",
       "    <tr>\n",
       "      <th>2</th>\n",
       "      <td>3</td>\n",
       "      <td>Split</td>\n",
       "      <td>Horror,Thriller</td>\n",
       "      <td>Three girls are kidnapped by a man with a diag...</td>\n",
       "      <td>M. Night Shyamalan</td>\n",
       "      <td>James McAvoy, Anya Taylor-Joy, Haley Lu Richar...</td>\n",
       "      <td>2016</td>\n",
       "      <td>7.3</td>\n",
       "      <td>157606</td>\n",
       "      <td>62.0</td>\n",
       "      <td>138.12</td>\n",
       "      <td>117</td>\n",
       "      <td>Average</td>\n",
       "    </tr>\n",
       "    <tr>\n",
       "      <th>3</th>\n",
       "      <td>4</td>\n",
       "      <td>Sing</td>\n",
       "      <td>Animation,Comedy,Family</td>\n",
       "      <td>In a city of humanoid animals, a hustling thea...</td>\n",
       "      <td>Christophe Lourdelet</td>\n",
       "      <td>Matthew McConaughey,Reese Witherspoon, Seth Ma...</td>\n",
       "      <td>2016</td>\n",
       "      <td>7.2</td>\n",
       "      <td>60545</td>\n",
       "      <td>59.0</td>\n",
       "      <td>270.32</td>\n",
       "      <td>108</td>\n",
       "      <td>Average</td>\n",
       "    </tr>\n",
       "    <tr>\n",
       "      <th>4</th>\n",
       "      <td>5</td>\n",
       "      <td>Suicide Squad</td>\n",
       "      <td>Action,Adventure,Fantasy</td>\n",
       "      <td>A secret government agency recruits some of th...</td>\n",
       "      <td>David Ayer</td>\n",
       "      <td>Will Smith, Jared Leto, Margot Robbie, Viola D...</td>\n",
       "      <td>2016</td>\n",
       "      <td>6.2</td>\n",
       "      <td>393727</td>\n",
       "      <td>40.0</td>\n",
       "      <td>325.02</td>\n",
       "      <td>123</td>\n",
       "      <td>Average</td>\n",
       "    </tr>\n",
       "  </tbody>\n",
       "</table>\n",
       "</div>"
      ],
      "text/plain": [
       "   Rank                    Title                     Genre  \\\n",
       "0     1  Guardians of the Galaxy   Action,Adventure,Sci-Fi   \n",
       "1     2               Prometheus  Adventure,Mystery,Sci-Fi   \n",
       "2     3                    Split           Horror,Thriller   \n",
       "3     4                     Sing   Animation,Comedy,Family   \n",
       "4     5            Suicide Squad  Action,Adventure,Fantasy   \n",
       "\n",
       "                                         Description              Director  \\\n",
       "0  A group of intergalactic criminals are forced ...            James Gunn   \n",
       "1  Following clues to the origin of mankind, a te...          Ridley Scott   \n",
       "2  Three girls are kidnapped by a man with a diag...    M. Night Shyamalan   \n",
       "3  In a city of humanoid animals, a hustling thea...  Christophe Lourdelet   \n",
       "4  A secret government agency recruits some of th...            David Ayer   \n",
       "\n",
       "                                              Actors  Year  Rating   Votes  \\\n",
       "0  Chris Pratt, Vin Diesel, Bradley Cooper, Zoe S...  2014     8.1  757074   \n",
       "1  Noomi Rapace, Logan Marshall-Green, Michael Fa...  2012     7.0  485820   \n",
       "2  James McAvoy, Anya Taylor-Joy, Haley Lu Richar...  2016     7.3  157606   \n",
       "3  Matthew McConaughey,Reese Witherspoon, Seth Ma...  2016     7.2   60545   \n",
       "4  Will Smith, Jared Leto, Margot Robbie, Viola D...  2016     6.2  393727   \n",
       "\n",
       "   Metascore  Revenue  Runtime feedback  \n",
       "0       76.0   333.13      121     Good  \n",
       "1       65.0   126.46      124  Average  \n",
       "2       62.0   138.12      117  Average  \n",
       "3       59.0   270.32      108  Average  \n",
       "4       40.0   325.02      123  Average  "
      ]
     },
     "execution_count": 21,
     "metadata": {},
     "output_type": "execute_result"
    }
   ],
   "source": [
    "data[\"feedback\"] = data[\"Rating\"].apply(feedback)\n",
    "data.head()"
   ]
  },
  {
   "cell_type": "code",
   "execution_count": null,
   "id": "7e32575c",
   "metadata": {},
   "outputs": [],
   "source": []
  }
 ],
 "metadata": {
  "kernelspec": {
   "display_name": "Python 3",
   "language": "python",
   "name": "python3"
  },
  "language_info": {
   "codemirror_mode": {
    "name": "ipython",
    "version": 3
   },
   "file_extension": ".py",
   "mimetype": "text/x-python",
   "name": "python",
   "nbconvert_exporter": "python",
   "pygments_lexer": "ipython3",
   "version": "3.7.2"
  }
 },
 "nbformat": 4,
 "nbformat_minor": 5
}
